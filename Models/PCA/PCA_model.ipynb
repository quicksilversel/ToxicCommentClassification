{
  "metadata": {
    "kernelspec": {
      "language": "python",
      "display_name": "Python 3",
      "name": "python3"
    },
    "language_info": {
      "pygments_lexer": "ipython3",
      "nbconvert_exporter": "python",
      "version": "3.6.4",
      "file_extension": ".py",
      "codemirror_mode": {
        "name": "ipython",
        "version": 3
      },
      "name": "python",
      "mimetype": "text/x-python"
    },
    "colab": {
      "name": "PCA.ipynb",
      "provenance": []
    }
  },
  "nbformat_minor": 0,
  "nbformat": 4,
  "cells": [
    {
      "cell_type": "code",
      "source": [
        "import pandas as pd\n",
        "from sklearn.model_selection import train_test_split\n",
        "import numpy as np\n",
        "\n",
        "import os"
      ],
      "metadata": {
        "execution": {
          "iopub.status.busy": "2022-04-30T23:16:30.750159Z",
          "iopub.execute_input": "2022-04-30T23:16:30.750711Z",
          "iopub.status.idle": "2022-04-30T23:16:30.755542Z",
          "shell.execute_reply.started": "2022-04-30T23:16:30.750657Z",
          "shell.execute_reply": "2022-04-30T23:16:30.754599Z"
        },
        "trusted": true,
        "id": "cLHTyc77nZmN"
      },
      "execution_count": 1,
      "outputs": []
    },
    {
      "cell_type": "markdown",
      "source": [
        "# Lemmatizer"
      ],
      "metadata": {
        "id": "AV3rJjW9nZmQ"
      }
    },
    {
      "cell_type": "code",
      "source": [
        "from nltk import word_tokenize          \n",
        "from nltk.stem import WordNetLemmatizer \n",
        "class LemmaTokenizer(object):\n",
        "    def __init__(self):\n",
        "        self.wnl = WordNetLemmatizer()\n",
        "    def __call__(self, doc):\n",
        "        return [self.wnl.lemmatize(t) for t in word_tokenize(doc)]"
      ],
      "metadata": {
        "execution": {
          "iopub.status.busy": "2022-04-30T23:16:30.896316Z",
          "iopub.execute_input": "2022-04-30T23:16:30.896794Z",
          "iopub.status.idle": "2022-04-30T23:16:30.904098Z",
          "shell.execute_reply.started": "2022-04-30T23:16:30.896756Z",
          "shell.execute_reply": "2022-04-30T23:16:30.903029Z"
        },
        "trusted": true,
        "id": "55ebNFFOnZmT"
      },
      "execution_count": 2,
      "outputs": []
    },
    {
      "cell_type": "markdown",
      "source": [
        "# Stemming\n"
      ],
      "metadata": {
        "id": "anR-3w4JnZmU"
      }
    },
    {
      "cell_type": "code",
      "source": [
        "from nltk.stem.porter import PorterStemmer\n",
        "import re\n",
        "token_pattern=r\"(?u)\\b\\w\\w+\\b\"\n",
        "compiled_reg_exp = re.compile(token_pattern)\n",
        "def StemTokenizer(text):\n",
        "    tokens = compiled_reg_exp.findall(text)\n",
        "    stems = []\n",
        "    for item in tokens:\n",
        "        if len(item)>100:\n",
        "            item = 'tooLongWord'\n",
        "        stems.append(PorterStemmer().stem(item))\n",
        "    return stems"
      ],
      "metadata": {
        "execution": {
          "iopub.status.busy": "2022-04-30T23:16:31.025948Z",
          "iopub.execute_input": "2022-04-30T23:16:31.026419Z",
          "iopub.status.idle": "2022-04-30T23:16:31.03377Z",
          "shell.execute_reply.started": "2022-04-30T23:16:31.026377Z",
          "shell.execute_reply": "2022-04-30T23:16:31.03299Z"
        },
        "trusted": true,
        "id": "6c3fAi1knZmW"
      },
      "execution_count": 3,
      "outputs": []
    },
    {
      "cell_type": "markdown",
      "source": [
        "# Open dataset and split into Train set and Validate set\n",
        "Hold-Out vs K-folding"
      ],
      "metadata": {
        "id": "Pv5fXsrfnZmX"
      }
    },
    {
      "cell_type": "code",
      "source": [
        "!pwd"
      ],
      "metadata": {
        "colab": {
          "base_uri": "https://localhost:8080/"
        },
        "id": "9T1B7uAEpkPC",
        "outputId": "9a88fa65-7789-43aa-9a0b-3a622c73bbeb"
      },
      "execution_count": 4,
      "outputs": [
        {
          "output_type": "stream",
          "name": "stdout",
          "text": [
            "/content\n"
          ]
        }
      ]
    },
    {
      "cell_type": "code",
      "source": [
        "# Dataset\n",
        "# folder = '/kaggle/input/jigsaw-toxic-comment-classification-challenge/'\n",
        "train = pd.read_csv(\"/content/train.csv\")\n",
        "test = pd.read_csv(\"/content/test.csv\")\n",
        "submission = pd.read_csv(\"/content/sample_submission.csv\")\n",
        "\n",
        "list_classes = [\"toxic\", \"severe_toxic\", \"obscene\", \"threat\", \"insult\", \"identity_hate\"]\n",
        "y = train[list_classes].values\n",
        "\n",
        "# Split\n",
        "X_train, X_valid, Y_train, Y_valid = train_test_split(train, y, test_size = 0.1)\n",
        "print(len(Y_train[0]))\n",
        "# Raw datasets\n",
        "raw_text_train = X_train[\"comment_text\"].str.lower()\n",
        "raw_text_valid = X_valid[\"comment_text\"].str.lower()\n",
        "raw_text_test = test[\"comment_text\"].str.lower()"
      ],
      "metadata": {
        "execution": {
          "iopub.status.busy": "2022-04-30T23:16:31.16803Z",
          "iopub.execute_input": "2022-04-30T23:16:31.168568Z",
          "iopub.status.idle": "2022-04-30T23:16:35.321691Z",
          "shell.execute_reply.started": "2022-04-30T23:16:31.168523Z",
          "shell.execute_reply": "2022-04-30T23:16:35.320862Z"
        },
        "trusted": true,
        "colab": {
          "base_uri": "https://localhost:8080/"
        },
        "id": "Ivy58reSnZmZ",
        "outputId": "4769fdef-e0f8-444e-e3aa-b6343ae42f71"
      },
      "execution_count": 5,
      "outputs": [
        {
          "output_type": "stream",
          "name": "stdout",
          "text": [
            "6\n"
          ]
        }
      ]
    },
    {
      "cell_type": "markdown",
      "source": [
        "# Vectorize\n",
        "\n",
        "Para realizar la vectorización, se podría hacer a través de count vectorizer o tf-idf vectorizer. Por un lado, count vectorizer separa las palabras por la frecuencia de ocurrencia. Es una manera simple de ordenar las palabras para entender el contenido de un dataset con base en cuáles son las palabras comunes. Igualmente, count vectorizer tiene ciertas limitaciones. Por ejemplo, asume que las palabras más frecuentes son las más importantes, cuando necesariamente no es ese el caso. También, es incapaz de determinar la importancia de las palabras en sí, ya que se basa solo en la frecuencia de ocurrencia. Y finalmente, no reconoce las similitudes y relaciones que pueden tener las palabras.\n",
        "Es por eso que se tiene el term frequency–inverse document frequency, o tf-idf, vectorizer. El objetivo de tfidf es no solamente ordenar las palabras por frecuencia de ocurrencia, sino también por su importancia. El proceso se puede dividir en dos partes, la parte tf, y la parte idf. La parte tf, o 'term frequency' funciona similar al count vectorizer, ya que ordena las palabras por su frecuencia de ocurrencia relatva, es decir, dentro de cada documento particular. Mientras tanto, el idf, o 'inverse document frecuency', nos determina la importancia de cada palabra basándose en que tanta información nos provee. En particular, se estima la cantidad de información de cada palabra en relación con la inversa de su frecuencia de ocurrencia, es decir, cuanto menos veces ocurra la palabra, se obtiene más información.\n",
        "Es decir, la importancia se define como un balance entre que tantas veces ocurre una palabra con poca ocurrencia. Se puede decir entonces que tf-idf determina que una palabra dentro de un documento es importante si se utiliza muchas veces en un documento, pero pocas veces en todos los documentos. De esta manera, puede corregir las limitaciones del count vectorizer, ya que se puede estimar la importancia de cada palabra más allá de su frecuencia de ocurrencia."
      ],
      "metadata": {
        "id": "sDNkdHianZmb"
      }
    },
    {
      "cell_type": "code",
      "source": [
        "from sklearn.feature_extraction.text import TfidfVectorizer\n",
        "\n",
        "max_features = 200000\n",
        "\n",
        "tfidf_vectorizer = TfidfVectorizer(max_df=0.11, min_df=1,\n",
        "                                   max_features=max_features,\n",
        "                                   #tokenizer=StemTokenize,\n",
        "                                   #tokenizer=LemmaTokenize,\n",
        "                                   stop_words='english')\n",
        "\n",
        "%time tfidf_matrix_train = tfidf_vectorizer.fit_transform(raw_text_train)"
      ],
      "metadata": {
        "execution": {
          "iopub.status.busy": "2022-04-30T23:16:35.325133Z",
          "iopub.execute_input": "2022-04-30T23:16:35.325381Z",
          "iopub.status.idle": "2022-04-30T23:16:46.94039Z",
          "shell.execute_reply.started": "2022-04-30T23:16:35.32535Z",
          "shell.execute_reply": "2022-04-30T23:16:46.939275Z"
        },
        "trusted": true,
        "colab": {
          "base_uri": "https://localhost:8080/"
        },
        "id": "_QmWxt42nZmc",
        "outputId": "fd5549a8-9855-4526-b8c1-a6b59dd4b258"
      },
      "execution_count": 6,
      "outputs": [
        {
          "output_type": "stream",
          "name": "stdout",
          "text": [
            "CPU times: user 7.88 s, sys: 115 ms, total: 8 s\n",
            "Wall time: 8.03 s\n"
          ]
        }
      ]
    },
    {
      "cell_type": "code",
      "source": [
        "%time tfidf_matrix_valid = tfidf_vectorizer.transform(raw_text_valid)"
      ],
      "metadata": {
        "execution": {
          "iopub.status.busy": "2022-04-30T23:16:46.941854Z",
          "iopub.execute_input": "2022-04-30T23:16:46.942127Z",
          "iopub.status.idle": "2022-04-30T23:16:48.213709Z",
          "shell.execute_reply.started": "2022-04-30T23:16:46.942098Z",
          "shell.execute_reply": "2022-04-30T23:16:48.212717Z"
        },
        "trusted": true,
        "colab": {
          "base_uri": "https://localhost:8080/"
        },
        "id": "ftfMTza2nZme",
        "outputId": "eebc3d81-d9f8-4f34-fe4a-7315f0dcd0ec"
      },
      "execution_count": 7,
      "outputs": [
        {
          "output_type": "stream",
          "name": "stdout",
          "text": [
            "CPU times: user 812 ms, sys: 3.58 ms, total: 815 ms\n",
            "Wall time: 819 ms\n"
          ]
        }
      ]
    },
    {
      "cell_type": "code",
      "source": [
        "%time tfidf_matrix_test = tfidf_vectorizer.transform(raw_text_test)"
      ],
      "metadata": {
        "execution": {
          "iopub.status.busy": "2022-04-30T23:16:48.216488Z",
          "iopub.execute_input": "2022-04-30T23:16:48.216839Z",
          "iopub.status.idle": "2022-04-30T23:16:59.335315Z",
          "shell.execute_reply.started": "2022-04-30T23:16:48.21679Z",
          "shell.execute_reply": "2022-04-30T23:16:59.334327Z"
        },
        "trusted": true,
        "colab": {
          "base_uri": "https://localhost:8080/"
        },
        "id": "M9_FcVsWnZmf",
        "outputId": "1291e3de-f932-4844-fa1f-ad4c198ad0c8"
      },
      "execution_count": 8,
      "outputs": [
        {
          "output_type": "stream",
          "name": "stdout",
          "text": [
            "CPU times: user 7.08 s, sys: 26.6 ms, total: 7.11 s\n",
            "Wall time: 7.11 s\n"
          ]
        }
      ]
    },
    {
      "cell_type": "markdown",
      "source": [
        "# Bag of Words\n",
        "wtf is BoW"
      ],
      "metadata": {
        "id": "COQJ6VeNnZmi"
      }
    },
    {
      "cell_type": "markdown",
      "source": [
        "# Reducción de Dimensionalidad"
      ],
      "metadata": {
        "id": "qQPWbHfnnZmj"
      }
    },
    {
      "cell_type": "code",
      "source": [
        "from sklearn.decomposition import TruncatedSVD\n",
        "\n",
        "trunSVD = TruncatedSVD(n_components=300)\n",
        "%time dense_matrix_train = trunSVD.fit_transform(tfidf_matrix_train)"
      ],
      "metadata": {
        "execution": {
          "iopub.status.busy": "2022-04-30T23:16:59.336829Z",
          "iopub.execute_input": "2022-04-30T23:16:59.337344Z",
          "iopub.status.idle": "2022-04-30T23:18:26.803358Z",
          "shell.execute_reply.started": "2022-04-30T23:16:59.337301Z",
          "shell.execute_reply": "2022-04-30T23:18:26.802298Z"
        },
        "trusted": true,
        "colab": {
          "base_uri": "https://localhost:8080/"
        },
        "id": "uN-g146fnZmk",
        "outputId": "5e51a43a-5c87-4668-81f2-46fd303c1fca"
      },
      "execution_count": 9,
      "outputs": [
        {
          "output_type": "stream",
          "name": "stdout",
          "text": [
            "CPU times: user 1min 40s, sys: 9.08 s, total: 1min 49s\n",
            "Wall time: 1min 13s\n"
          ]
        }
      ]
    },
    {
      "cell_type": "code",
      "source": [
        "%time dense_matrix_valid = trunSVD.transform(tfidf_matrix_valid)"
      ],
      "metadata": {
        "execution": {
          "iopub.status.busy": "2022-04-30T23:18:26.805053Z",
          "iopub.execute_input": "2022-04-30T23:18:26.805283Z",
          "iopub.status.idle": "2022-04-30T23:18:27.244456Z",
          "shell.execute_reply.started": "2022-04-30T23:18:26.805254Z",
          "shell.execute_reply": "2022-04-30T23:18:27.243466Z"
        },
        "trusted": true,
        "colab": {
          "base_uri": "https://localhost:8080/"
        },
        "id": "yXz76NvSnZml",
        "outputId": "6ab9cfd3-152e-4502-9585-63b551966a6c"
      },
      "execution_count": 10,
      "outputs": [
        {
          "output_type": "stream",
          "name": "stdout",
          "text": [
            "CPU times: user 278 ms, sys: 3.91 ms, total: 281 ms\n",
            "Wall time: 284 ms\n"
          ]
        }
      ]
    },
    {
      "cell_type": "code",
      "source": [
        "dense_matrix_train.shape, dense_matrix_valid.shape"
      ],
      "metadata": {
        "execution": {
          "iopub.status.busy": "2022-04-30T23:18:27.245815Z",
          "iopub.execute_input": "2022-04-30T23:18:27.246106Z",
          "iopub.status.idle": "2022-04-30T23:18:27.253355Z",
          "shell.execute_reply.started": "2022-04-30T23:18:27.246071Z",
          "shell.execute_reply": "2022-04-30T23:18:27.252529Z"
        },
        "trusted": true,
        "colab": {
          "base_uri": "https://localhost:8080/"
        },
        "id": "mnxpZgiqnZmn",
        "outputId": "91436a74-8892-44f8-9ef0-93a4ecb9e2f8"
      },
      "execution_count": 11,
      "outputs": [
        {
          "output_type": "execute_result",
          "data": {
            "text/plain": [
              "((143613, 300), (15958, 300))"
            ]
          },
          "metadata": {},
          "execution_count": 11
        }
      ]
    },
    {
      "cell_type": "code",
      "source": [
        "len(dense_matrix_train[0])"
      ],
      "metadata": {
        "execution": {
          "iopub.status.busy": "2022-04-30T23:18:27.255119Z",
          "iopub.execute_input": "2022-04-30T23:18:27.255893Z",
          "iopub.status.idle": "2022-04-30T23:18:27.265177Z",
          "shell.execute_reply.started": "2022-04-30T23:18:27.255856Z",
          "shell.execute_reply": "2022-04-30T23:18:27.264135Z"
        },
        "trusted": true,
        "colab": {
          "base_uri": "https://localhost:8080/"
        },
        "id": "wbm02ixXnZmo",
        "outputId": "77d43270-b14c-4c0e-8628-53174c44424b"
      },
      "execution_count": 12,
      "outputs": [
        {
          "output_type": "execute_result",
          "data": {
            "text/plain": [
              "300"
            ]
          },
          "metadata": {},
          "execution_count": 12
        }
      ]
    },
    {
      "cell_type": "code",
      "source": [
        "%time dense_matrix_test = trunSVD.transform(tfidf_matrix_test)"
      ],
      "metadata": {
        "execution": {
          "iopub.status.busy": "2022-04-30T23:18:27.266584Z",
          "iopub.execute_input": "2022-04-30T23:18:27.26714Z",
          "iopub.status.idle": "2022-04-30T23:18:29.197859Z",
          "shell.execute_reply.started": "2022-04-30T23:18:27.267093Z",
          "shell.execute_reply": "2022-04-30T23:18:29.196844Z"
        },
        "trusted": true,
        "colab": {
          "base_uri": "https://localhost:8080/"
        },
        "id": "bd0nhTUMnZmp",
        "outputId": "5856b440-496f-4d37-8c2b-7966995644ec"
      },
      "execution_count": 13,
      "outputs": [
        {
          "output_type": "stream",
          "name": "stdout",
          "text": [
            "CPU times: user 1.32 s, sys: 3.54 ms, total: 1.32 s\n",
            "Wall time: 1.33 s\n"
          ]
        }
      ]
    },
    {
      "cell_type": "markdown",
      "source": [
        "# Train Model"
      ],
      "metadata": {
        "id": "nuzLghXbnZmq"
      }
    },
    {
      "cell_type": "code",
      "source": [
        "from keras.models import Sequential\n",
        "from keras import optimizers\n",
        "from keras.layers.core import Dense, Activation"
      ],
      "metadata": {
        "execution": {
          "iopub.status.busy": "2022-04-30T23:18:29.200577Z",
          "iopub.execute_input": "2022-04-30T23:18:29.200834Z",
          "iopub.status.idle": "2022-04-30T23:18:29.205558Z",
          "shell.execute_reply.started": "2022-04-30T23:18:29.200802Z",
          "shell.execute_reply": "2022-04-30T23:18:29.20466Z"
        },
        "trusted": true,
        "id": "1mj7FRzdnZmr"
      },
      "execution_count": 14,
      "outputs": []
    },
    {
      "cell_type": "code",
      "source": [
        "input_features = dense_matrix_train.shape[1]\n",
        "output_size = Y_train.shape[1]\n",
        "\n",
        "model = Sequential()\n",
        "model.add(Dense(20, activation = 'sigmoid', input_dim=input_features, name='Capa_Oculta_1'))\n",
        "model.add(Dense(output_size, activation = 'sigmoid',name='Capa_Final'))"
      ],
      "metadata": {
        "execution": {
          "iopub.status.busy": "2022-04-30T23:18:29.207212Z",
          "iopub.execute_input": "2022-04-30T23:18:29.207649Z",
          "iopub.status.idle": "2022-04-30T23:18:29.24148Z",
          "shell.execute_reply.started": "2022-04-30T23:18:29.207599Z",
          "shell.execute_reply": "2022-04-30T23:18:29.240482Z"
        },
        "trusted": true,
        "id": "-B-7KlqsnZms"
      },
      "execution_count": 15,
      "outputs": []
    },
    {
      "cell_type": "code",
      "source": [
        "model.summary()"
      ],
      "metadata": {
        "execution": {
          "iopub.status.busy": "2022-04-30T23:18:29.244438Z",
          "iopub.execute_input": "2022-04-30T23:18:29.244808Z",
          "iopub.status.idle": "2022-04-30T23:18:29.252815Z",
          "shell.execute_reply.started": "2022-04-30T23:18:29.24476Z",
          "shell.execute_reply": "2022-04-30T23:18:29.25198Z"
        },
        "trusted": true,
        "colab": {
          "base_uri": "https://localhost:8080/"
        },
        "id": "IfwDA4kVnZmu",
        "outputId": "28eeeffe-23ff-4eaf-8d5d-79f15c84ed4a"
      },
      "execution_count": 16,
      "outputs": [
        {
          "output_type": "stream",
          "name": "stdout",
          "text": [
            "Model: \"sequential\"\n",
            "_________________________________________________________________\n",
            " Layer (type)                Output Shape              Param #   \n",
            "=================================================================\n",
            " Capa_Oculta_1 (Dense)       (None, 20)                6020      \n",
            "                                                                 \n",
            " Capa_Final (Dense)          (None, 6)                 126       \n",
            "                                                                 \n",
            "=================================================================\n",
            "Total params: 6,146\n",
            "Trainable params: 6,146\n",
            "Non-trainable params: 0\n",
            "_________________________________________________________________\n"
          ]
        }
      ]
    },
    {
      "cell_type": "code",
      "source": [
        "model.compile(loss='binary_crossentropy', optimizer = 'adam')"
      ],
      "metadata": {
        "execution": {
          "iopub.status.busy": "2022-04-30T23:18:29.254173Z",
          "iopub.execute_input": "2022-04-30T23:18:29.254427Z",
          "iopub.status.idle": "2022-04-30T23:18:29.268443Z",
          "shell.execute_reply.started": "2022-04-30T23:18:29.254397Z",
          "shell.execute_reply": "2022-04-30T23:18:29.267515Z"
        },
        "trusted": true,
        "id": "BTw6iStbnZmv"
      },
      "execution_count": 17,
      "outputs": []
    },
    {
      "cell_type": "code",
      "source": [
        "batch_size = 128\n",
        "epochs = 10\n",
        "\n",
        "model.fit(dense_matrix_train, Y_train, batch_size=batch_size, epochs=epochs, validation_data=(dense_matrix_valid, Y_valid))"
      ],
      "metadata": {
        "execution": {
          "iopub.status.busy": "2022-04-30T23:18:29.269977Z",
          "iopub.execute_input": "2022-04-30T23:18:29.271332Z",
          "iopub.status.idle": "2022-04-30T23:18:53.967614Z",
          "shell.execute_reply.started": "2022-04-30T23:18:29.271279Z",
          "shell.execute_reply": "2022-04-30T23:18:53.966748Z"
        },
        "trusted": true,
        "colab": {
          "base_uri": "https://localhost:8080/"
        },
        "id": "spCQMgZOnZmw",
        "outputId": "bd69ed24-53f3-42fe-b750-6a348cdb4910"
      },
      "execution_count": 18,
      "outputs": [
        {
          "output_type": "stream",
          "name": "stdout",
          "text": [
            "Epoch 1/10\n",
            "1122/1122 [==============================] - 3s 2ms/step - loss: 0.1983 - val_loss: 0.1330\n",
            "Epoch 2/10\n",
            "1122/1122 [==============================] - 3s 2ms/step - loss: 0.1233 - val_loss: 0.1152\n",
            "Epoch 3/10\n",
            "1122/1122 [==============================] - 2s 2ms/step - loss: 0.1048 - val_loss: 0.0967\n",
            "Epoch 4/10\n",
            "1122/1122 [==============================] - 3s 2ms/step - loss: 0.0890 - val_loss: 0.0842\n",
            "Epoch 5/10\n",
            "1122/1122 [==============================] - 3s 2ms/step - loss: 0.0792 - val_loss: 0.0774\n",
            "Epoch 6/10\n",
            "1122/1122 [==============================] - 3s 2ms/step - loss: 0.0739 - val_loss: 0.0739\n",
            "Epoch 7/10\n",
            "1122/1122 [==============================] - 3s 2ms/step - loss: 0.0710 - val_loss: 0.0719\n",
            "Epoch 8/10\n",
            "1122/1122 [==============================] - 3s 2ms/step - loss: 0.0693 - val_loss: 0.0707\n",
            "Epoch 9/10\n",
            "1122/1122 [==============================] - 2s 2ms/step - loss: 0.0683 - val_loss: 0.0700\n",
            "Epoch 10/10\n",
            "1122/1122 [==============================] - 2s 2ms/step - loss: 0.0675 - val_loss: 0.0694\n"
          ]
        },
        {
          "output_type": "execute_result",
          "data": {
            "text/plain": [
              "<keras.callbacks.History at 0x7fbaf09511d0>"
            ]
          },
          "metadata": {},
          "execution_count": 18
        }
      ]
    },
    {
      "cell_type": "markdown",
      "source": [
        "# Predict"
      ],
      "metadata": {
        "id": "qXtt6oMXnZmy"
      }
    },
    {
      "cell_type": "code",
      "source": [
        "pred_test = model.predict(dense_matrix_test)"
      ],
      "metadata": {
        "execution": {
          "iopub.status.busy": "2022-04-30T23:18:53.969976Z",
          "iopub.execute_input": "2022-04-30T23:18:53.970394Z",
          "iopub.status.idle": "2022-04-30T23:18:58.667587Z",
          "shell.execute_reply.started": "2022-04-30T23:18:53.970348Z",
          "shell.execute_reply": "2022-04-30T23:18:58.666743Z"
        },
        "trusted": true,
        "id": "Y36nYDLxnZmz"
      },
      "execution_count": 19,
      "outputs": []
    },
    {
      "cell_type": "code",
      "source": [
        "submission[list_classes] = pred_test\n",
        "submission.to_csv(\"submission_model.csv\", index = False)"
      ],
      "metadata": {
        "execution": {
          "iopub.status.busy": "2022-04-30T23:18:58.668981Z",
          "iopub.execute_input": "2022-04-30T23:18:58.669245Z",
          "iopub.status.idle": "2022-04-30T23:19:00.298206Z",
          "shell.execute_reply.started": "2022-04-30T23:18:58.669213Z",
          "shell.execute_reply": "2022-04-30T23:19:00.2975Z"
        },
        "trusted": true,
        "id": "2bwFxOVEnZm1"
      },
      "execution_count": 20,
      "outputs": []
    },
    {
      "cell_type": "markdown",
      "source": [
        "# Evaluate"
      ],
      "metadata": {
        "id": "KslKWt8CnZm2"
      }
    },
    {
      "cell_type": "code",
      "source": [
        "pred_valid = model.predict(dense_matrix_valid, verbose = 1)\n",
        "pred_train = model.predict(dense_matrix_train, verbose = 1)\n",
        "pred_test = model.predict(dense_matrix_test, verbose = 1)"
      ],
      "metadata": {
        "execution": {
          "iopub.status.busy": "2022-04-30T23:19:00.299625Z",
          "iopub.execute_input": "2022-04-30T23:19:00.300394Z",
          "iopub.status.idle": "2022-04-30T23:19:11.43676Z",
          "shell.execute_reply.started": "2022-04-30T23:19:00.300346Z",
          "shell.execute_reply": "2022-04-30T23:19:11.435983Z"
        },
        "trusted": true,
        "colab": {
          "base_uri": "https://localhost:8080/"
        },
        "id": "wBhuUG_RnZm6",
        "outputId": "a969dea3-c246-4b90-a642-d8450c5dd08a"
      },
      "execution_count": 21,
      "outputs": [
        {
          "output_type": "stream",
          "name": "stdout",
          "text": [
            "499/499 [==============================] - 1s 1ms/step\n",
            "4488/4488 [==============================] - 5s 1ms/step\n",
            "4787/4787 [==============================] - 6s 1ms/step\n"
          ]
        }
      ]
    },
    {
      "cell_type": "code",
      "source": [
        "model.evaluate(dense_matrix_valid, Y_valid)"
      ],
      "metadata": {
        "execution": {
          "iopub.status.busy": "2022-04-30T23:19:11.438044Z",
          "iopub.execute_input": "2022-04-30T23:19:11.438298Z",
          "iopub.status.idle": "2022-04-30T23:19:12.127742Z",
          "shell.execute_reply.started": "2022-04-30T23:19:11.438267Z",
          "shell.execute_reply": "2022-04-30T23:19:12.126901Z"
        },
        "trusted": true,
        "colab": {
          "base_uri": "https://localhost:8080/"
        },
        "id": "ptMEU0QYnZm7",
        "outputId": "6d6f1c75-79ad-441e-ceea-cd83fc93fb7e"
      },
      "execution_count": 22,
      "outputs": [
        {
          "output_type": "stream",
          "name": "stdout",
          "text": [
            "499/499 [==============================] - 1s 1ms/step - loss: 0.0694\n"
          ]
        },
        {
          "output_type": "execute_result",
          "data": {
            "text/plain": [
              "0.06935860961675644"
            ]
          },
          "metadata": {},
          "execution_count": 22
        }
      ]
    },
    {
      "cell_type": "markdown",
      "source": [
        "# Predict for Test"
      ],
      "metadata": {
        "id": "f4dGS8iQnZm8"
      }
    },
    {
      "cell_type": "code",
      "source": [
        "tfidf_matrix_test = tfidf_vectorizer.transform(raw_text_test)\n",
        "%time dense_matrix_train = trunSVD.fit_transform(tfidf_matrix_train)"
      ],
      "metadata": {
        "execution": {
          "iopub.status.busy": "2022-04-30T23:19:12.129061Z",
          "iopub.execute_input": "2022-04-30T23:19:12.129293Z",
          "iopub.status.idle": "2022-04-30T23:20:53.010408Z",
          "shell.execute_reply.started": "2022-04-30T23:19:12.129265Z",
          "shell.execute_reply": "2022-04-30T23:20:53.009349Z"
        },
        "trusted": true,
        "colab": {
          "base_uri": "https://localhost:8080/"
        },
        "id": "LaYGreyknZm9",
        "outputId": "31c61504-fbfd-4561-f05c-db1aa7f998a6"
      },
      "execution_count": 23,
      "outputs": [
        {
          "output_type": "stream",
          "name": "stdout",
          "text": [
            "CPU times: user 1min 46s, sys: 12.2 s, total: 1min 58s\n",
            "Wall time: 1min 22s\n"
          ]
        }
      ]
    },
    {
      "cell_type": "code",
      "source": [
        "pred = model.predict(dense_matrix_test, verbose=1)"
      ],
      "metadata": {
        "execution": {
          "iopub.status.busy": "2022-04-30T23:20:53.013853Z",
          "iopub.execute_input": "2022-04-30T23:20:53.01424Z",
          "iopub.status.idle": "2022-04-30T23:20:58.517145Z",
          "shell.execute_reply.started": "2022-04-30T23:20:53.014201Z",
          "shell.execute_reply": "2022-04-30T23:20:58.516145Z"
        },
        "trusted": true,
        "colab": {
          "base_uri": "https://localhost:8080/"
        },
        "id": "7Sp5rOfgnZm-",
        "outputId": "f76f8897-26e6-4f02-82f7-d4086d690314"
      },
      "execution_count": 24,
      "outputs": [
        {
          "output_type": "stream",
          "name": "stdout",
          "text": [
            "4787/4787 [==============================] - 7s 1ms/step\n"
          ]
        }
      ]
    },
    {
      "cell_type": "code",
      "source": [
        "submission[list_classes] = pred\n",
        "submission.to_csv(\"submission_test.csv\", index = False)"
      ],
      "metadata": {
        "execution": {
          "iopub.status.busy": "2022-04-30T23:20:58.5187Z",
          "iopub.execute_input": "2022-04-30T23:20:58.520656Z",
          "iopub.status.idle": "2022-04-30T23:21:00.222248Z",
          "shell.execute_reply.started": "2022-04-30T23:20:58.520606Z",
          "shell.execute_reply": "2022-04-30T23:21:00.22105Z"
        },
        "trusted": true,
        "id": "r_IELtQjnZm_"
      },
      "execution_count": 25,
      "outputs": []
    },
    {
      "cell_type": "markdown",
      "source": [
        "# F1 score"
      ],
      "metadata": {
        "id": "4-wJRF34sYy5"
      }
    },
    {
      "cell_type": "code",
      "source": [
        "from sklearn.metrics import f1_score"
      ],
      "metadata": {
        "id": "BPXRhcossbiG"
      },
      "execution_count": 29,
      "outputs": []
    },
    {
      "cell_type": "code",
      "source": [
        "testing_labels = pd.read_csv(\"/content/test_labels.csv\")\n",
        "testing_clean = pd.merge(test, testing_labels)"
      ],
      "metadata": {
        "id": "8shNVjQxuIyP"
      },
      "execution_count": 30,
      "outputs": []
    },
    {
      "cell_type": "code",
      "source": [
        "avg = 0\n",
        "for i,label in enumerate(list_classes):\n",
        "    print(label, \":\")\n",
        "    pb = pred[:, i] >= 0.5\n",
        "    score = f1_score(testing_clean[label], pb, average=\"weighted\")\n",
        "    print(score)\n",
        "    avg += score\n",
        "\n",
        "avg /= len(list_classes)\n",
        "print(\"Average f1-score:\", avg)"
      ],
      "metadata": {
        "colab": {
          "base_uri": "https://localhost:8080/"
        },
        "id": "zln7F6gssuRu",
        "outputId": "25547bbe-6bd7-4fa2-f0da-4fc49e2bf209"
      },
      "execution_count": 31,
      "outputs": [
        {
          "output_type": "stream",
          "name": "stdout",
          "text": [
            "toxic :\n",
            "0.23303576430573444\n",
            "severe_toxic :\n",
            "0.24478758509664086\n",
            "obscene :\n",
            "0.24047450607844337\n",
            "threat :\n",
            "0.24476180581799237\n",
            "insult :\n",
            "0.2385587544744099\n",
            "identity_hate :\n",
            "0.24166309534380737\n",
            "Average f1-score: 0.24054691851950474\n"
          ]
        }
      ]
    },
    {
      "cell_type": "markdown",
      "source": [
        "# ROC Curve\n"
      ],
      "metadata": {
        "id": "znCqcA4HnZnA"
      }
    },
    {
      "cell_type": "code",
      "source": [
        "from sklearn.metrics import roc_auc_score\n",
        "from sklearn.metrics import roc_curve, auc\n",
        "from scipy import interp\n",
        "from itertools import cycle\n",
        "\n",
        "print(roc_auc_score(Y_train, pred_train, average='macro'))\n",
        "print(roc_auc_score(Y_valid, pred_valid, average='macro'))"
      ],
      "metadata": {
        "execution": {
          "iopub.status.busy": "2022-04-30T23:21:00.225493Z",
          "iopub.execute_input": "2022-04-30T23:21:00.225838Z",
          "iopub.status.idle": "2022-04-30T23:21:00.605961Z",
          "shell.execute_reply.started": "2022-04-30T23:21:00.22579Z",
          "shell.execute_reply": "2022-04-30T23:21:00.605019Z"
        },
        "trusted": true,
        "colab": {
          "base_uri": "https://localhost:8080/"
        },
        "id": "v6sETZXenZnB",
        "outputId": "c2785c6c-6a50-4134-8f0d-a70df8c79ea0"
      },
      "execution_count": 26,
      "outputs": [
        {
          "output_type": "stream",
          "name": "stdout",
          "text": [
            "0.9566543571851645\n",
            "0.9529046372672672\n"
          ]
        }
      ]
    },
    {
      "cell_type": "code",
      "source": [
        "fpr = dict()\n",
        "tpr = dict()\n",
        "roc_auc = dict()\n",
        "n_classes = Y_valid.shape[1]\n",
        "for i in range(n_classes):\n",
        "    fpr[i], tpr[i], _ = roc_curve(Y_valid[:, i], pred_valid[:, i])\n",
        "    roc_auc[i] = auc(fpr[i], tpr[i])\n",
        "    \n",
        "fpr[\"micro\"], tpr[\"micro\"], _ = roc_curve(Y_valid.ravel(), pred_valid.ravel())\n",
        "roc_auc[\"micro\"] = auc(fpr[\"micro\"], tpr[\"micro\"])"
      ],
      "metadata": {
        "execution": {
          "iopub.status.busy": "2022-04-30T23:21:00.607256Z",
          "iopub.execute_input": "2022-04-30T23:21:00.608164Z",
          "iopub.status.idle": "2022-04-30T23:21:00.660805Z",
          "shell.execute_reply.started": "2022-04-30T23:21:00.608128Z",
          "shell.execute_reply": "2022-04-30T23:21:00.659991Z"
        },
        "trusted": true,
        "id": "SmOWZA8bnZnC"
      },
      "execution_count": 27,
      "outputs": []
    },
    {
      "cell_type": "code",
      "source": [
        "from matplotlib import pyplot as plt\n",
        "# Compute macro-average ROC curve and ROC area\n",
        "lw = 2\n",
        "# First aggregate all false positive rates\n",
        "all_fpr = np.unique(np.concatenate([fpr[i] for i in range(n_classes)]))\n",
        "\n",
        "# Then interpolate all ROC curves at this points\n",
        "mean_tpr = np.zeros_like(all_fpr)\n",
        "for i in range(n_classes):\n",
        "    mean_tpr += interp(all_fpr, fpr[i], tpr[i])\n",
        "\n",
        "# Finally average it and compute AUC\n",
        "mean_tpr /= n_classes\n",
        "\n",
        "fpr[\"macro\"] = all_fpr\n",
        "tpr[\"macro\"] = mean_tpr\n",
        "roc_auc[\"macro\"] = auc(fpr[\"macro\"], tpr[\"macro\"])\n",
        "\n",
        "# Plot all ROC curves\n",
        "plt.figure()\n",
        "plt.plot(fpr[\"micro\"], tpr[\"micro\"],\n",
        "         label='micro-average ROC curve (area = {0:0.2f})'\n",
        "               ''.format(roc_auc[\"micro\"]),\n",
        "         color='deeppink', linestyle=':', linewidth=4)\n",
        "\n",
        "plt.plot(fpr[\"macro\"], tpr[\"macro\"],\n",
        "         label='macro-average ROC curve (area = {0:0.2f})'\n",
        "               ''.format(roc_auc[\"macro\"]),\n",
        "         color='navy', linestyle=':', linewidth=4)\n",
        "\n",
        "colors = cycle(['aqua', 'darkorange', 'cornflowerblue'])\n",
        "for i, color in zip(range(n_classes), colors):\n",
        "    plt.plot(fpr[i], tpr[i], color=color, lw=lw,\n",
        "             label='ROC curve of class {0} (area = {1:0.2f})'\n",
        "             ''.format(i, roc_auc[i]))\n",
        "\n",
        "plt.plot([0, 1], [0, 1], 'k--', lw=lw)\n",
        "plt.xlim([0.0, 1.0])\n",
        "plt.ylim([0.0, 1.05])\n",
        "plt.xlabel('False Positive Rate')\n",
        "plt.ylabel('True Positive Rate')\n",
        "plt.title('Some extension of Receiver operating characteristic to multi-class')\n",
        "plt.legend(loc=\"lower right\")\n",
        "plt.show()"
      ],
      "metadata": {
        "execution": {
          "iopub.status.busy": "2022-04-30T23:21:00.662191Z",
          "iopub.execute_input": "2022-04-30T23:21:00.663117Z",
          "iopub.status.idle": "2022-04-30T23:21:00.944687Z",
          "shell.execute_reply.started": "2022-04-30T23:21:00.66308Z",
          "shell.execute_reply": "2022-04-30T23:21:00.944024Z"
        },
        "trusted": true,
        "colab": {
          "base_uri": "https://localhost:8080/",
          "height": 349
        },
        "id": "Bx7rV8qOnZnD",
        "outputId": "d812d8de-bf53-4d92-eb23-e18323727dc0"
      },
      "execution_count": 28,
      "outputs": [
        {
          "output_type": "stream",
          "name": "stderr",
          "text": [
            "/usr/local/lib/python3.7/dist-packages/ipykernel_launcher.py:10: DeprecationWarning: scipy.interp is deprecated and will be removed in SciPy 2.0.0, use numpy.interp instead\n",
            "  # Remove the CWD from sys.path while we load stuff.\n"
          ]
        },
        {
          "output_type": "display_data",
          "data": {
            "text/plain": [
              "<Figure size 432x288 with 1 Axes>"
            ],
            "image/png": "[encoded data removed]"
          },
          "metadata": {
            "needs_background": "light"
          }
        }
      ]
    }
  ]
}